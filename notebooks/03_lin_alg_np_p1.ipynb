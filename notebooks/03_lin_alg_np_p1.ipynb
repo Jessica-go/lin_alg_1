{
 "cells": [
  {
   "cell_type": "markdown",
   "metadata": {},
   "source": [
    "# Linear Algebra: some important concepts"
   ]
  },
  {
   "cell_type": "markdown",
   "metadata": {},
   "source": [
    "## 1. Determinant: \n",
    "The determinant is a scalar value that can be computed from a square matrix.\n",
    "\n",
    "### Why is it important?\n",
    "- It tells us if the matrix is **invertible** (det ≠ 0).\n",
    "- It represents the **volume scaling factor** of a transformation.\n",
    "- It’s used in solving systems of equations and in eigenvalue computation.\n",
    "\n",
    "For a 2x2 matrix:\n",
    "$$\n",
    "\\text{det}(A) = ad - bc\n",
    "\\quad \\text{for } A = \\begin{bmatrix} a & b \\\\ c & d \\end{bmatrix}\n",
    "$$\n"
   ]
  },
  {
   "cell_type": "code",
   "execution_count": 5,
   "metadata": {},
   "outputs": [],
   "source": [
    "import numpy as np\n",
    "import matplotlib.pyplot as plt"
   ]
  },
  {
   "cell_type": "code",
   "execution_count": null,
   "metadata": {},
   "outputs": [],
   "source": [
    "A = np.array([[2, 3],\n",
    "              [1, 4]])\n",
    "\n",
    "det_A = np.linalg.det(A)\n",
    "print(\"Determinant of A:\", det_A)"
   ]
  },
  {
   "cell_type": "markdown",
   "metadata": {},
   "source": [
    "## 2. Inverse Matrix\n",
    "\n",
    "The inverse of a matrix (A) is noted as $$A^{-1}$$ and satisfies:\n",
    "$$\n",
    "A \\cdot A^{-1} = I\n",
    "$$\n",
    "\n",
    "It only exists if the determinant is **not zero**.\n",
    "\n"
   ]
  },
  {
   "cell_type": "code",
   "execution_count": null,
   "metadata": {},
   "outputs": [],
   "source": [
    "if np.linalg.det(A) != 0:\n",
    "    A_inv = np.linalg.inv(A)\n",
    "    print(\"Inverse of A:\\n\", A_inv)"
   ]
  },
  {
   "cell_type": "markdown",
   "metadata": {},
   "source": [
    "## What are Eigenvalues and Eigenvectors?\n",
    "\n",
    "Given a square matrix (A), a **non-zero vector** (v) is called an **eigenvector** of A if applying the matrix to the vector only **scales** it (does not change its direction).\n",
    "\n",
    "Mathematically:\n",
    "$$\n",
    "A \\cdot v = \\lambda \\cdot v\n",
    "$$\n",
    "\n",
    "-  (v): eigenvector  \n",
    "- (lambda): eigenvalue  \n",
    "-  (A): square matrix\n",
    "\n",
    "This equation says: \"When we apply the transformation \\(A\\), the vector \\(v\\) stays on its line — it only stretches or shrinks by a factor \\(lambda\\).\"\n",
    "\n",
    "### Why is this important?\n",
    "\n",
    "Eigenvectors show the **directions** that remain invariant under a transformation.  \n",
    "Eigenvalues show the **magnitude of change** in those directions.\n",
    "\n",
    "In PCA, we use the eigenvectors of the **covariance matrix** to find the axes of greatest variance in the data.\n"
   ]
  },
  {
   "cell_type": "code",
   "execution_count": null,
   "metadata": {},
   "outputs": [],
   "source": [
    "eigvals, eigvecs = np.linalg.eig(A)\n",
    "print(\"Eigenvalues:\", eigvals)\n",
    "print(\"Eigenvectors:\\n\", eigvecs)"
   ]
  },
  {
   "cell_type": "markdown",
   "metadata": {},
   "source": [
    "## 4. Solving a System using Determinants\n",
    "\n",
    "Given a system:\n",
    "$$\n",
    "Ax = b\n",
    "$$\n",
    "\n",
    "If \\(A) is 2x2 and invertible, we can solve it using **Cramer’s Rule**:\n",
    "\n",
    "$$\n",
    "x_i = \\frac{\\text{det}(A_i)}{\\text{det}(A)}\n",
    "$$\n",
    "\n",
    "Where \\(A_i) is matrix \\(A ) with column \\(i) replaced by the vector \\(b).\n"
   ]
  },
  {
   "cell_type": "code",
   "execution_count": null,
   "metadata": {},
   "outputs": [],
   "source": [
    "b = np.array([8, 5])\n",
    "\n",
    "A1 = A.copy()\n",
    "A1[:, 0] = b\n",
    "\n",
    "A2 = A.copy()\n",
    "A2[:, 1] = b\n",
    "\n",
    "x1 = np.linalg.det(A1) / det_A\n",
    "x2 = np.linalg.det(A2) / det_A\n",
    "\n",
    "print(\"Solution using Cramer's Rule: x =\", x1, \", y =\", x2)"
   ]
  }
 ],
 "metadata": {
  "kernelspec": {
   "display_name": "Python 3",
   "language": "python",
   "name": "python3"
  },
  "language_info": {
   "codemirror_mode": {
    "name": "ipython",
    "version": 3
   },
   "file_extension": ".py",
   "mimetype": "text/x-python",
   "name": "python",
   "nbconvert_exporter": "python",
   "pygments_lexer": "ipython3",
   "version": "3.11.2"
  }
 },
 "nbformat": 4,
 "nbformat_minor": 2
}
