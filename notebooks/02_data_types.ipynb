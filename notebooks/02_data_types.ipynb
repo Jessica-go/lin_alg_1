{
 "cells": [
  {
   "cell_type": "markdown",
   "metadata": {},
   "source": [
    "## Python Lists Are Not Vectors\n",
    "\n",
    "In Python, a `list` is a general-purpose container that can hold any type of data — numbers, strings, even other lists. It is **not** a mathematical object like a vector or a matrix.\n",
    "\n",
    "```python\n",
    "my_list = [1, 2, 3]\n"
   ]
  },
  {
   "cell_type": "code",
   "execution_count": 4,
   "metadata": {},
   "outputs": [
    {
     "name": "stdout",
     "output_type": "stream",
     "text": [
      "a + b = [1, 2, 3, 4, 5, 6]\n",
      "Error when trying a @ b: unsupported operand type(s) for @: 'list' and 'list'\n"
     ]
    }
   ],
   "source": [
    "# Python lists\n",
    "a = [1, 2, 3]\n",
    "b = [4, 5, 6]\n",
    "\n",
    "print(\"a + b =\", a + b)  # Concatenation, not addition\n",
    "\n",
    "# Try dot product (will fail)\n",
    "try:\n",
    "    result = a @ b\n",
    "except TypeError as e:\n",
    "    print(\"Error when trying a @ b:\", e)"
   ]
  },
  {
   "cell_type": "markdown",
   "metadata": {},
   "source": [
    "## Pandas DataFrames Are Not Mathematical Matrices\n",
    "\n",
    "A `pandas.DataFrame` is a powerful structure to work with **tabular data** — similar to a spreadsheet. It organizes values in **columns and rows**, and allows mixing data types (numbers, strings, dates, etc.). However, a DataFrame is **not** a mathematical matrix.\n"
   ]
  },
  {
   "cell_type": "code",
   "execution_count": 7,
   "metadata": {},
   "outputs": [
    {
     "name": "stdout",
     "output_type": "stream",
     "text": [
      "    Name  Age  Score\n",
      "0  Alice   25   85.0\n",
      "1    Bob   30   92.5\n"
     ]
    }
   ],
   "source": [
    "import pandas as pd\n",
    "import numpy as np\n",
    "\n",
    "df = pd.DataFrame({\n",
    "    \"Name\": [\"Alice\", \"Bob\"],\n",
    "    \"Age\": [25, 30],\n",
    "    \"Score\": [85.0, 92.5]\n",
    "})\n",
    "\n",
    "print(df)"
   ]
  },
  {
   "cell_type": "code",
   "execution_count": 6,
   "metadata": {},
   "outputs": [
    {
     "name": "stdout",
     "output_type": "stream",
     "text": [
      "DataFrame:\n",
      "   x  y\n",
      "0  1  3\n",
      "1  2  4\n",
      "\n",
      "As NumPy array:\n",
      "[[1 3]\n",
      " [2 4]]\n",
      "\n",
      "Data type (dtype): int64\n"
     ]
    }
   ],
   "source": [
    "# Create a DataFrame\n",
    "df = pd.DataFrame({\n",
    "    \"x\": [1, 2],\n",
    "    \"y\": [3, 4]\n",
    "})\n",
    "\n",
    "print(\"DataFrame:\")\n",
    "print(df)\n",
    "\n",
    "print(\"\\nAs NumPy array:\")\n",
    "print(df.values)\n",
    "\n",
    "print(\"\\nData type (dtype):\", df.values.dtype)"
   ]
  },
  {
   "cell_type": "markdown",
   "metadata": {},
   "source": [
    "To perform mathematical operations with the content of a DataFrame, we must first convert it to a NumPy array using `.values` or `.to_numpy()`.\n",
    "\n",
    "Only then does it become a proper structure for linear algebra.\n",
    "\n",
    "Also, note the `.dtype` — it shows the **type of elements inside the structure**, which must be consistent for math operations to work. This is why `dtype` matters: it tells us whether we're dealing with integers, floats, objects (mixed types), or something else.\n"
   ]
  },
  {
   "cell_type": "markdown",
   "metadata": {},
   "source": [
    "## Summary: Why Data Types Matter in Python\n",
    "\n",
    "In math, we work with abstract objects like vectors and matrices that assume all entries are numbers.\n",
    "\n",
    "In Python, we must be explicit about what kind of structure we're using and what data types it holds. This is why we distinguish between:\n",
    "\n",
    "- `list` → general-purpose container (not math)\n",
    "- `np.array` → mathematical vector or matrix\n",
    "- `pd.DataFrame` → tabular data for analysis, not math\n",
    "\n",
    "Being aware of **data types (`dtype`)** is essential when writing code that uses linear algebra.\n"
   ]
  }
 ],
 "metadata": {
  "kernelspec": {
   "display_name": "Python 3",
   "language": "python",
   "name": "python3"
  },
  "language_info": {
   "codemirror_mode": {
    "name": "ipython",
    "version": 3
   },
   "file_extension": ".py",
   "mimetype": "text/x-python",
   "name": "python",
   "nbconvert_exporter": "python",
   "pygments_lexer": "ipython3",
   "version": "3.11.2"
  }
 },
 "nbformat": 4,
 "nbformat_minor": 2
}
