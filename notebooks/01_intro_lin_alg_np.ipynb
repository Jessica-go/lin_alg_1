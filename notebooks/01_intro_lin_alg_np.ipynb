{
 "cells": [
  {
   "cell_type": "markdown",
   "metadata": {},
   "source": [
    "# Introduction to Linear Algebra with NumPy\n",
    "\n",
    "In this notebook, we’ll introduce some core concepts of linear algebra using Python and NumPy. This is designed for programmers and data enthusiasts who want to understand how vectors, matrices, and linear transformations work — in theory and in code.\n",
    "\n",
    "By the end of this notebook, you should feel more confident reading and writing code that involves basic linear algebra operations in data science and machine learning.\n"
   ]
  },
  {
   "cell_type": "markdown",
   "metadata": {},
   "source": [
    "## What is Linear Algebra?\n",
    "\n",
    "Linear algebra is the branch of mathematics that deals with understanding, solving, visualizing, and applying **systems of equations**, mostly using the concepts of **vectors**, **matrices**, and **linear transformations**.\n",
    "\n",
    "In machine learning and data science, linear algebra is everywhere — from data representation (as matrices) to model training (as operations on vectors). You don't need to know all the math to get started, but understanding the key ideas will help you read and debug your code with more confidence.\n"
   ]
  },
  {
   "cell_type": "markdown",
   "metadata": {},
   "source": [
    "# Vectors"
   ]
  },
  {
   "cell_type": "markdown",
   "metadata": {},
   "source": [
    "We first start with the concept of a vector. An intuitive way to understand what a vector is: an arrow that represents direction and magnitude."
   ]
  },
  {
   "cell_type": "code",
   "execution_count": 1,
   "metadata": {},
   "outputs": [],
   "source": [
    "import numpy as np\n",
    "import matplotlib.pyplot as plt\n",
    "from mpl_toolkits.mplot3d import Axes3D"
   ]
  },
  {
   "cell_type": "code",
   "execution_count": null,
   "metadata": {},
   "outputs": [],
   "source": [
    "#Operations with vectors\n",
    "a = np.array([1, 2, 3])\n",
    "b = np.array([4, 5, 6])\n",
    "\n",
    "# Addition\n",
    "c = a + b\n",
    "print(\"Vector addition:\", c)\n",
    "\n",
    "# Scalar multiplication     \n",
    "print(\"Scalar multiplication:\", 2 * a)\n",
    "\n",
    "# Dot product\n",
    "d = np.dot(a, b)\n",
    "print(\"Dot product:\", d)\n",
    "\n",
    "# norm\n",
    "e = np.linalg.norm(a)\n",
    "print(\"Norm:\", e)\n"
   ]
  },
  {
   "cell_type": "markdown",
   "metadata": {},
   "source": [
    "but what means all these results? let's visualite them "
   ]
  },
  {
   "cell_type": "code",
   "execution_count": null,
   "metadata": {},
   "outputs": [],
   "source": [
    "a = np.array([1, 2, 3])\n",
    "b = np.array([4, 5, 6])\n",
    "\n",
    "#  Create figure and 3D axes\n",
    "fig = plt.figure(figsize=(8, 8))\n",
    "ax = fig.add_subplot(111, projection='3d')\n",
    "\n",
    "# ploting a and b \n",
    "origin = np.zeros(3)\n",
    "\n",
    "ax.quiver(*origin, *a, color='purple', label='a', linewidth=2, arrow_length_ratio=0.1)\n",
    "ax.quiver(*origin, *b, color='green', label='b', linewidth=2, arrow_length_ratio=0.1)\n",
    "\n",
    "# Add point markers at the tips\n",
    "ax.scatter(*a, color='purple', s=50)\n",
    "ax.scatter(*b, color='green', s=50)\n",
    "\n",
    "# Set axis limmits\n",
    "ax.set_xlim([0, 6])\n",
    "ax.set_ylim([0, 6])\n",
    "ax.set_zlim([0, 6])\n",
    "\n",
    "# Add labels\n",
    "ax.set_xlabel('X')\n",
    "ax.set_ylabel('Y')\n",
    "ax.set_zlabel('Z')\n",
    "ax.set_title('3D Vector Visualization')\n",
    "ax.legend()\n",
    "\n",
    "# Adjust camera view\n",
    "ax.view_init(elev=1, azim=45)\n",
    "\n",
    "plt.show()\n"
   ]
  },
  {
   "cell_type": "markdown",
   "metadata": {},
   "source": [
    "Now is your turn to code the sum, the dot product and the norm of the vectors."
   ]
  },
  {
   "cell_type": "markdown",
   "metadata": {},
   "source": [
    "# Matrices"
   ]
  },
  {
   "cell_type": "markdown",
   "metadata": {},
   "source": [
    "A matrix is a table of numbers that helps us organize data or apply rules to transform vectors."
   ]
  },
  {
   "cell_type": "code",
   "execution_count": null,
   "metadata": {},
   "outputs": [],
   "source": [
    "A = np.array([[1, 2],\n",
    "              [3, 4]])\n",
    "\n",
    "B = np.array([[5, 6],\n",
    "              [7, 8]])\n",
    "\n",
    "print(\"Matrix A:\\n\", A)\n",
    "print(\"Matrix B:\\n\", B)\n",
    "\n",
    "# Element-wise addition\n",
    "print(\"\\nA + B:\\n\", A + B)\n",
    "\n",
    "# Element-wise subtraction\n",
    "print(\"\\nA - B:\\n\", A - B)\n",
    "\n",
    "# Matrix multiplication (dot product)\n",
    "print(\"\\nA @ B (matrix product):\\n\", A @ B)\n",
    "\n",
    "# Identity matrix (2x2)\n",
    "I = np.eye(2)\n",
    "print(\"\\nIdentity matrix I:\\n\", I)"
   ]
  },
  {
   "cell_type": "markdown",
   "metadata": {},
   "source": [
    "# Linear Equations "
   ]
  },
  {
   "cell_type": "markdown",
   "metadata": {},
   "source": [
    "A linear equation combines unknowns (like x or y) with weights, and the result is a fixed number. All variables are raised only to the power of 1."
   ]
  },
  {
   "cell_type": "code",
   "execution_count": null,
   "metadata": {},
   "outputs": [],
   "source": [
    "# Define x range\n",
    "x = np.linspace(-5, 5, 400)\n",
    "\n",
    "# Define the equation: 2x + 3y = 0 ⇒ y = -(2/3)x\n",
    "y = -(2/3) * x\n",
    "\n",
    "# Plot\n",
    "plt.figure(figsize=(8, 5))\n",
    "plt.axhline(0, color='gray', linewidth=1)\n",
    "plt.axvline(0, color='gray', linewidth=1)\n",
    "plt.plot(x, y, label='2x + 3y = 0', color='purple')\n",
    "\n",
    "# Labels and title\n",
    "plt.xlabel('x')\n",
    "plt.ylabel('y')\n",
    "plt.title('Linear Equation: 2x + 3y = 0')\n",
    "plt.grid(True)\n",
    "plt.legend()\n",
    "plt.axis('equal')\n",
    "plt.show()\n"
   ]
  },
  {
   "cell_type": "markdown",
   "metadata": {},
   "source": [
    "Another way of seeing a linear equation is through the dot product. For example, [2, 3] · [x, y] = 0. This means the solution is any vector `[x, y]` that is **orthogonal** (perpendicular) to `[2, 3]`.\n",
    "So a linear equation like this defines a line through the origin, made of all vectors orthogonal to a fixed one.\n"
   ]
  },
  {
   "cell_type": "markdown",
   "metadata": {},
   "source": [
    "## Solving Systems of Linear Equations\n",
    "\n",
    "A system of linear equations is a group of linear equations that must be true at the same time. This system can be written in matrix form as: A · x = b. \n",
    "Where:\n",
    "- `A` is the coefficient matrix\n",
    "- `x` is the vector of unknowns (can be more than one unknown)\n",
    "- `b` is the result vector\n",
    "\n",
    "\n",
    "\n",
    "\n",
    "\n"
   ]
  },
  {
   "cell_type": "code",
   "execution_count": null,
   "metadata": {},
   "outputs": [],
   "source": [
    "# Coefficient matrix A\n",
    "A = np.array([[2, 1],\n",
    "              [1, -1]])\n",
    "\n",
    "# Right-hand side vector b\n",
    "b = np.array([5, 1])\n",
    "\n",
    "# Solve Ax = b\n",
    "solution = np.linalg.solve(A, b)\n",
    "\n",
    "print(\"Solution [x, y]:\", solution)\n"
   ]
  },
  {
   "cell_type": "markdown",
   "metadata": {},
   "source": [
    "Time of visualizing the solution."
   ]
  },
  {
   "cell_type": "code",
   "execution_count": null,
   "metadata": {},
   "outputs": [],
   "source": [
    "# Create a range of x values\n",
    "x = np.linspace(-2, 5, 400)\n",
    "\n",
    "# Calculate y values for each equation\n",
    "y1 = 5 - 2 * x       # Equation 1\n",
    "y2 = x - 1           # Equation 2\n",
    "\n",
    "# Plot the equations\n",
    "plt.figure(figsize=(8, 6))\n",
    "plt.plot(x, y1, label='2x + y = 5', color='purple')\n",
    "plt.plot(x, y2, label='x - y = 1', color='green')\n",
    "\n",
    "# Plot the solution\n",
    "plt.scatter(solution[0], solution[1], color='red', label='Solution', s=100)\n",
    "plt.xlabel('x')\n",
    "plt.ylabel('y')\n",
    "plt.title('System of Linear Equations')\n",
    "\n",
    "# Plot the intersection point\n",
    "plt.plot(solution[0], solution[1], 'ro', label=f'Solution: ({solution[0]:.2f}, {solution[1]:.2f})')\n",
    "\n",
    "# Add grid, labels, and title\n",
    "plt.axhline(0, color='gray', linewidth=1)\n",
    "plt.axvline(0, color='gray', linewidth=1)\n",
    "plt.xlabel('x')\n",
    "plt.ylabel('y')\n",
    "plt.title('Graphical Solution of a Linear System')\n",
    "plt.legend()\n",
    "plt.grid(True)\n",
    "plt.axis('equal')\n",
    "plt.show()"
   ]
  }
 ],
 "metadata": {
  "kernelspec": {
   "display_name": "Python 3",
   "language": "python",
   "name": "python3"
  },
  "language_info": {
   "codemirror_mode": {
    "name": "ipython",
    "version": 3
   },
   "file_extension": ".py",
   "mimetype": "text/x-python",
   "name": "python",
   "nbconvert_exporter": "python",
   "pygments_lexer": "ipython3",
   "version": "3.11.2"
  }
 },
 "nbformat": 4,
 "nbformat_minor": 2
}
